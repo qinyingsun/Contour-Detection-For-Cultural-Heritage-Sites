{
 "cells": [
  {
   "cell_type": "code",
   "execution_count": null,
   "id": "ae5d9eee",
   "metadata": {},
   "outputs": [],
   "source": [
    "# render the svg file\n",
    "import sqlite3\n",
    "import os\n",
    "import svgwrite\n",
    "import cv2\n",
    "\n",
    "def render_svg0(uid, image, cursor):\n",
    "    filename = \"./svg_var_width/\" + uid + \"&\" + image + \".svg\"\n",
    "    img = cv2.imread('./image/' + image + '.jpg')\n",
    "    img_size = (img.shape[1], img.shape[0])\n",
    "    \n",
    "    dwg = svgwrite.Drawing(filename, size=img_size)\n",
    "    cursor.execute(\"select * from StrokeData where image='%s' and username='%s'\" % (image, uid))\n",
    "    strokedata = cursor.fetchall()\n",
    "    for i in range(len(strokedata)):\n",
    "#         print(strokedata[i])\n",
    "        txy = strokedata[i][5].split(\",\")\n",
    "        color = \"#000000\"\n",
    "#         if int(image) > 63: \n",
    "#             width = 15\n",
    "#         else:\n",
    "#             width = 5\n",
    "        width = max(img.shape[1], img.shape[0])//200\n",
    "#         print(img_size, width)\n",
    "        d = \"M\"\n",
    "        for j in range(0, len(txy), 3):\n",
    "            if j >= 3:\n",
    "                d = d + \"L\"\n",
    "            d = d + txy[j+1] + \",\" + txy[j+2]\n",
    "        w = dwg.path(d=d, fill=\"none\", stroke=color, style=\"-webkit-tap-highlight-color: rgba(0, 0, 0, 0); stroke-linecap: round; stroke-linejoin: round; stroke-width: %s;\" % (width))\n",
    "        dwg.add(w)\n",
    "    dwg.save()\n",
    "\n",
    "try:\n",
    "    conn = sqlite3.connect(\"dura-db.db\")\n",
    "except Error as e:\n",
    "    print(e)\n",
    "    \n",
    "cursor = conn.cursor()\n",
    "\n",
    "cursor.execute(\"select * from UserData\")\n",
    "userdata = cursor.fetchall()\n",
    "for ud in userdata:\n",
    "    uid = ud[1]\n",
    "    images = ud[4]\n",
    "    if images is not None: \n",
    "        images = images.split(\",\")\n",
    "        for image in images: \n",
    "            render_svg0(uid, image, cursor)\n",
    "    print(uid + \" converted\")"
   ]
  },
  {
   "cell_type": "code",
   "execution_count": null,
   "id": "55d89f21",
   "metadata": {},
   "outputs": [],
   "source": [
    "# turning the svg file to png\n",
    "from svglib.svglib import svg2rlg\n",
    "from reportlab.graphics import renderPDF, renderPM\n",
    "\n",
    "# svgpath = r'sketches/'\n",
    "svgpath = r'svg_var_width/'\n",
    "pngpath = r'png_var_width/'\n",
    "svgdir = os.path.basename(svgpath)\n",
    "\n",
    "for filename in os.listdir(svgpath):\n",
    "    name, ext = filename.split('.')\n",
    "    drawing = svg2rlg(svgpath+filename)\n",
    "    pngname = pngpath+name+'.png'\n",
    "    renderPM.drawToFile(drawing, pngname, fmt=\"PNG\")"
   ]
  }
 ],
 "metadata": {
  "kernelspec": {
   "display_name": "Python 3",
   "language": "python",
   "name": "python3"
  },
  "language_info": {
   "codemirror_mode": {
    "name": "ipython",
    "version": 3
   },
   "file_extension": ".py",
   "mimetype": "text/x-python",
   "name": "python",
   "nbconvert_exporter": "python",
   "pygments_lexer": "ipython3",
   "version": "3.6.12"
  }
 },
 "nbformat": 4,
 "nbformat_minor": 5
}
